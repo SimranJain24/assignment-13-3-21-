{
 "cells": [
  {
   "cell_type": "code",
   "execution_count": 18,
   "metadata": {},
   "outputs": [
    {
     "name": "stdout",
     "output_type": "stream",
     "text": [
      "A\tA\tA\t\n",
      "A\t\tA\n",
      "A\t\tA\n",
      "A\tA\tA\t\n",
      "\n"
     ]
    }
   ],
   "source": [
    "print('A\\t''A\\t''A\\t\\n'\n",
    "      'A\\t\\t''A\\n'\n",
    "    'A\\t\\t''A\\n'\n",
    "    'A\\t''A\\t''A\\t\\n' )"
   ]
  },
  {
   "cell_type": "code",
   "execution_count": 24,
   "metadata": {},
   "outputs": [
    {
     "name": "stdout",
     "output_type": "stream",
     "text": [
      "A\tA\tA\tA\tA\t\n",
      "A\t\t\t\tA\n",
      "A\t\t\t\tA\n",
      "A\t\t\t\tA\n",
      "A\tA\tA\tA\tA\t\n",
      "\n"
     ]
    }
   ],
   "source": [
    "print('A\\t''A\\t''A\\t''A\\t''A\\t\\n'\n",
    "   'A\\t\\t\\t\\t''A\\n' \n",
    "     'A\\t\\t\\t\\t''A\\n'\n",
    "     'A\\t\\t\\t\\t''A\\n'\n",
    "     'A\\t''A\\t''A\\t''A\\t''A\\t\\n')     "
   ]
  },
  {
   "cell_type": "code",
   "execution_count": 94,
   "metadata": {},
   "outputs": [
    {
     "name": "stdout",
     "output_type": "stream",
     "text": [
      "\t\tA\n",
      "\tA\t\tA\n",
      "A\t\tA\t\tA\t\n",
      "\n"
     ]
    }
   ],
   "source": [
    "print('\\t\\tA\\n'\n",
    "     '\\tA\\t\\t''A\\n'\n",
    "     'A''\\t\\tA\\t''\\tA\\n'\n",
    "     )"
   ]
  },
  {
   "cell_type": "code",
   "execution_count": 52,
   "metadata": {},
   "outputs": [
    {
     "name": "stdout",
     "output_type": "stream",
     "text": [
      "\t\tA\n",
      "\tA\t\tA\n",
      "\tA\t\tA\n",
      "\t\tA\n",
      "\n"
     ]
    }
   ],
   "source": [
    "print('\\t\\tA\\n'\n",
    "     '\\tA\\t\\t''A\\n'\n",
    "     '\\tA\\t\\t''A\\n'\n",
    "   '\\t\\tA\\n' )"
   ]
  },
  {
   "cell_type": "code",
   "execution_count": 55,
   "metadata": {},
   "outputs": [
    {
     "name": "stdout",
     "output_type": "stream",
     "text": [
      "enter first no:50\n",
      "enter second no10\n",
      "subtraction of 50 and 10 is 40.0\n",
      "product of 50 and 10 is 500.0\n",
      "division of 50 and 10 is 5.0\n"
     ]
    }
   ],
   "source": [
    "no1=input(\"enter first no:\")\n",
    "no2=input(\"enter second no\")\n",
    "substract=float(no1)-float(no2)\n",
    "print(\"subtraction of {0} and {1} is {2}\".format(no1,no2,substract))\n",
    "product=float(no1)*float(no2)\n",
    "print(\"product of {0} and {1} is {2}\".format(no1,no2,product))\n",
    "division=float(no1)/float(no2)\n",
    "print(\"division of {0} and {1} is {2}\".format(no1,no2,division))"
   ]
  },
  {
   "cell_type": "code",
   "execution_count": 60,
   "metadata": {},
   "outputs": [
    {
     "name": "stdout",
     "output_type": "stream",
     "text": [
      "enter first no:5\n",
      "enter second no:10\n",
      "before swapping: 5 10\n",
      "After swapping: 10 5\n"
     ]
    }
   ],
   "source": [
    "no1=input(\"enter first no:\")\n",
    "no2=input(\"enter second no:\")\n",
    "print(\"before swapping:\",no1,no2)\n",
    "temp=no1\n",
    "no1=no2\n",
    "no2=temp\n",
    "print(\"After swapping:\",no1,no2)"
   ]
  },
  {
   "cell_type": "code",
   "execution_count": 73,
   "metadata": {},
   "outputs": [
    {
     "name": "stdout",
     "output_type": "stream",
     "text": [
      "enter first no:2\n",
      "enter second no:1\n",
      "largest no is: 2\n"
     ]
    }
   ],
   "source": [
    "no1=input(\"enter first no:\")\n",
    "no2=input(\"enter second no:\")\n",
    "print(\"largest no is:\", max(no1,no2))"
   ]
  },
  {
   "cell_type": "code",
   "execution_count": 72,
   "metadata": {},
   "outputs": [
    {
     "name": "stdout",
     "output_type": "stream",
     "text": [
      "enter first no:2\n",
      "enter second no:1\n",
      "smallest no is: 1\n"
     ]
    }
   ],
   "source": [
    "no1=input(\"enter first no:\")\n",
    "no2=input(\"enter second no:\")\n",
    "print(\"smallest no is:\",min(no1,no2))"
   ]
  },
  {
   "cell_type": "code",
   "execution_count": 96,
   "metadata": {},
   "outputs": [
    {
     "name": "stdout",
     "output_type": "stream",
     "text": [
      "enter first no:1\n",
      "enter second no:2\n",
      "enter third no:2\n",
      "largest no is: 2\n"
     ]
    }
   ],
   "source": [
    "no1=input(\"enter first no:\")\n",
    "no2=input(\"enter second no:\")\n",
    "no3=input(\"enter third no:\")\n",
    "print(\"largest no is:\", max(no1,no2,no3))"
   ]
  },
  {
   "cell_type": "code",
   "execution_count": 97,
   "metadata": {},
   "outputs": [
    {
     "name": "stdout",
     "output_type": "stream",
     "text": [
      "enter first no:1\n",
      "enter second no:2\n",
      "enter third no:3\n",
      "smallest no is: 1\n"
     ]
    }
   ],
   "source": [
    "no1=input(\"enter first no:\")\n",
    "no2=input(\"enter second no:\")\n",
    "no3=input(\"enter third no:\")\n",
    "print(\"smallest no is:\",min(no1,no2,no3))"
   ]
  },
  {
   "cell_type": "code",
   "execution_count": 102,
   "metadata": {},
   "outputs": [
    {
     "name": "stdout",
     "output_type": "stream",
     "text": [
      "enter strings to sort alphabetically\"sam\" \"punam\"\n",
      "['\"punam\"', '\"sam\"']\n"
     ]
    }
   ],
   "source": [
    "str=input(\"enter strings to sort alphabetically\")\n",
    "s=str.split()\n",
    "s.sort()\n",
    "print(s)"
   ]
  },
  {
   "cell_type": "code",
   "execution_count": 105,
   "metadata": {},
   "outputs": [
    {
     "name": "stdout",
     "output_type": "stream",
     "text": [
      "   December 2012\n",
      "Mo Tu We Th Fr Sa Su\n",
      "                1  2\n",
      " 3  4  5  6  7  8  9\n",
      "10 11 12 13 14 15 16\n",
      "17 18 19 20 21 22 23\n",
      "24 25 26 27 28 29 30\n",
      "31\n",
      "\n"
     ]
    }
   ],
   "source": [
    "import calendar\n",
    "yy=2012\n",
    "mm=12\n",
    "print(calendar.month(yy,mm))"
   ]
  },
  {
   "cell_type": "code",
   "execution_count": null,
   "metadata": {},
   "outputs": [],
   "source": []
  }
 ],
 "metadata": {
  "kernelspec": {
   "display_name": "Python 3",
   "language": "python",
   "name": "python3"
  },
  "language_info": {
   "codemirror_mode": {
    "name": "ipython",
    "version": 3
   },
   "file_extension": ".py",
   "mimetype": "text/x-python",
   "name": "python",
   "nbconvert_exporter": "python",
   "pygments_lexer": "ipython3",
   "version": "3.8.5"
  }
 },
 "nbformat": 4,
 "nbformat_minor": 4
}
